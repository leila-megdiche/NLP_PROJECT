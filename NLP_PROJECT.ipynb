{
 "cells": [
  {
   "cell_type": "code",
   "execution_count": 1,
   "id": "e04094d6-f3e7-4587-9754-452e7408d7cf",
   "metadata": {
    "tags": []
   },
   "outputs": [],
   "source": [
    "#! pip install networkx\n",
    "#! pip install openpyxl"
   ]
  },
  {
   "cell_type": "code",
   "execution_count": 2,
   "id": "59e0f10c-01b0-4374-8bbc-b33f73172778",
   "metadata": {
    "tags": []
   },
   "outputs": [],
   "source": [
    "# Importing the required Libraries\n",
    "import numpy as np\n",
    "import pandas as pd\n",
    "import nltk\n",
    "#nltk.download('punkt')\n",
    "import re\n",
    "#nltk.download('stopwords') \n",
    "import matplotlib.pyplot as plt\n",
    "\n",
    "from nltk.tokenize import sent_tokenize\n",
    "\n",
    "from nltk.corpus import stopwords\n",
    "\n",
    "from sklearn.metrics.pairwise import cosine_similarity\n",
    "\n",
    "import networkx as nx"
   ]
  },
  {
   "cell_type": "markdown",
   "id": "a37be5cf-c405-4f1c-9299-91d99fc63ec1",
   "metadata": {},
   "source": [
    "# Étape 1: Importer les données #"
   ]
  },
  {
   "cell_type": "code",
   "execution_count": 3,
   "id": "6dccdf33-b529-4586-a99b-dccf2019b550",
   "metadata": {
    "tags": []
   },
   "outputs": [],
   "source": [
    "# reading the file\n",
    "df = pd.read_excel('TASK.xlsx')"
   ]
  },
  {
   "cell_type": "code",
   "execution_count": 4,
   "id": "9626ec14-8f80-4d35-8dc3-ad1569ac7b7f",
   "metadata": {
    "tags": []
   },
   "outputs": [
    {
     "data": {
      "text/html": [
       "<div>\n",
       "<style scoped>\n",
       "    .dataframe tbody tr th:only-of-type {\n",
       "        vertical-align: middle;\n",
       "    }\n",
       "\n",
       "    .dataframe tbody tr th {\n",
       "        vertical-align: top;\n",
       "    }\n",
       "\n",
       "    .dataframe thead th {\n",
       "        text-align: right;\n",
       "    }\n",
       "</style>\n",
       "<table border=\"1\" class=\"dataframe\">\n",
       "  <thead>\n",
       "    <tr style=\"text-align: right;\">\n",
       "      <th></th>\n",
       "      <th>TEST DATASET</th>\n",
       "      <th>Unnamed: 1</th>\n",
       "    </tr>\n",
       "  </thead>\n",
       "  <tbody>\n",
       "    <tr>\n",
       "      <th>0</th>\n",
       "      <td>NaN</td>\n",
       "      <td>Introduction</td>\n",
       "    </tr>\n",
       "    <tr>\n",
       "      <th>1</th>\n",
       "      <td>NaN</td>\n",
       "      <td>Acnesol Gel is an antibiotic that fights bacte...</td>\n",
       "    </tr>\n",
       "    <tr>\n",
       "      <th>2</th>\n",
       "      <td>NaN</td>\n",
       "      <td>Ambrodil Syrup is used for treating various re...</td>\n",
       "    </tr>\n",
       "    <tr>\n",
       "      <th>3</th>\n",
       "      <td>NaN</td>\n",
       "      <td>Augmentin 625 Duo Tablet is a penicillin-type ...</td>\n",
       "    </tr>\n",
       "    <tr>\n",
       "      <th>4</th>\n",
       "      <td>NaN</td>\n",
       "      <td>Azithral 500 Tablet is an antibiotic used to t...</td>\n",
       "    </tr>\n",
       "    <tr>\n",
       "      <th>...</th>\n",
       "      <td>...</td>\n",
       "      <td>...</td>\n",
       "    </tr>\n",
       "    <tr>\n",
       "      <th>996</th>\n",
       "      <td>NaN</td>\n",
       "      <td>Azapure Tablet belongs to a group of medicines...</td>\n",
       "    </tr>\n",
       "    <tr>\n",
       "      <th>997</th>\n",
       "      <td>NaN</td>\n",
       "      <td>Arimidex 1mg Tablet  is used alone or with oth...</td>\n",
       "    </tr>\n",
       "    <tr>\n",
       "      <th>998</th>\n",
       "      <td>NaN</td>\n",
       "      <td>Arpimune ME 100mg Capsule is used to prevent y...</td>\n",
       "    </tr>\n",
       "    <tr>\n",
       "      <th>999</th>\n",
       "      <td>NaN</td>\n",
       "      <td>Amlodac CH Tablet is a combination medicine us...</td>\n",
       "    </tr>\n",
       "    <tr>\n",
       "      <th>1000</th>\n",
       "      <td>NaN</td>\n",
       "      <td>Angizem CD 120 Capsule ER is used to treat ang...</td>\n",
       "    </tr>\n",
       "  </tbody>\n",
       "</table>\n",
       "<p>1001 rows × 2 columns</p>\n",
       "</div>"
      ],
      "text/plain": [
       "      TEST DATASET                                         Unnamed: 1\n",
       "0              NaN                                       Introduction\n",
       "1              NaN  Acnesol Gel is an antibiotic that fights bacte...\n",
       "2              NaN  Ambrodil Syrup is used for treating various re...\n",
       "3              NaN  Augmentin 625 Duo Tablet is a penicillin-type ...\n",
       "4              NaN  Azithral 500 Tablet is an antibiotic used to t...\n",
       "...            ...                                                ...\n",
       "996            NaN  Azapure Tablet belongs to a group of medicines...\n",
       "997            NaN  Arimidex 1mg Tablet  is used alone or with oth...\n",
       "998            NaN  Arpimune ME 100mg Capsule is used to prevent y...\n",
       "999            NaN  Amlodac CH Tablet is a combination medicine us...\n",
       "1000           NaN  Angizem CD 120 Capsule ER is used to treat ang...\n",
       "\n",
       "[1001 rows x 2 columns]"
      ]
     },
     "execution_count": 4,
     "metadata": {},
     "output_type": "execute_result"
    }
   ],
   "source": [
    "df"
   ]
  },
  {
   "cell_type": "code",
   "execution_count": 5,
   "id": "3e377878-fb88-4761-9ea4-c83050476053",
   "metadata": {
    "tags": []
   },
   "outputs": [
    {
     "data": {
      "text/plain": [
       "Index(['TEST DATASET', 'Unnamed: 1'], dtype='object')"
      ]
     },
     "execution_count": 5,
     "metadata": {},
     "output_type": "execute_result"
    }
   ],
   "source": [
    "df.columns"
   ]
  },
  {
   "cell_type": "markdown",
   "id": "486b0cef-f0ab-4233-b9c4-fceb2695327c",
   "metadata": {},
   "source": [
    "# Étape 2: Prétraitement des données #"
   ]
  },
  {
   "cell_type": "code",
   "execution_count": 6,
   "id": "ff15f8bf-794f-4a15-a4db-c41987f7012f",
   "metadata": {
    "tags": []
   },
   "outputs": [
    {
     "data": {
      "text/html": [
       "<div>\n",
       "<style scoped>\n",
       "    .dataframe tbody tr th:only-of-type {\n",
       "        vertical-align: middle;\n",
       "    }\n",
       "\n",
       "    .dataframe tbody tr th {\n",
       "        vertical-align: top;\n",
       "    }\n",
       "\n",
       "    .dataframe thead th {\n",
       "        text-align: right;\n",
       "    }\n",
       "</style>\n",
       "<table border=\"1\" class=\"dataframe\">\n",
       "  <thead>\n",
       "    <tr style=\"text-align: right;\">\n",
       "      <th></th>\n",
       "      <th>TEST DATASET</th>\n",
       "      <th>Introduction</th>\n",
       "    </tr>\n",
       "  </thead>\n",
       "  <tbody>\n",
       "    <tr>\n",
       "      <th>1</th>\n",
       "      <td>NaN</td>\n",
       "      <td>Acnesol Gel is an antibiotic that fights bacte...</td>\n",
       "    </tr>\n",
       "    <tr>\n",
       "      <th>2</th>\n",
       "      <td>NaN</td>\n",
       "      <td>Ambrodil Syrup is used for treating various re...</td>\n",
       "    </tr>\n",
       "    <tr>\n",
       "      <th>3</th>\n",
       "      <td>NaN</td>\n",
       "      <td>Augmentin 625 Duo Tablet is a penicillin-type ...</td>\n",
       "    </tr>\n",
       "    <tr>\n",
       "      <th>4</th>\n",
       "      <td>NaN</td>\n",
       "      <td>Azithral 500 Tablet is an antibiotic used to t...</td>\n",
       "    </tr>\n",
       "    <tr>\n",
       "      <th>5</th>\n",
       "      <td>NaN</td>\n",
       "      <td>Alkasol Oral Solution is a medicine used in th...</td>\n",
       "    </tr>\n",
       "    <tr>\n",
       "      <th>...</th>\n",
       "      <td>...</td>\n",
       "      <td>...</td>\n",
       "    </tr>\n",
       "    <tr>\n",
       "      <th>996</th>\n",
       "      <td>NaN</td>\n",
       "      <td>Azapure Tablet belongs to a group of medicines...</td>\n",
       "    </tr>\n",
       "    <tr>\n",
       "      <th>997</th>\n",
       "      <td>NaN</td>\n",
       "      <td>Arimidex 1mg Tablet  is used alone or with oth...</td>\n",
       "    </tr>\n",
       "    <tr>\n",
       "      <th>998</th>\n",
       "      <td>NaN</td>\n",
       "      <td>Arpimune ME 100mg Capsule is used to prevent y...</td>\n",
       "    </tr>\n",
       "    <tr>\n",
       "      <th>999</th>\n",
       "      <td>NaN</td>\n",
       "      <td>Amlodac CH Tablet is a combination medicine us...</td>\n",
       "    </tr>\n",
       "    <tr>\n",
       "      <th>1000</th>\n",
       "      <td>NaN</td>\n",
       "      <td>Angizem CD 120 Capsule ER is used to treat ang...</td>\n",
       "    </tr>\n",
       "  </tbody>\n",
       "</table>\n",
       "<p>1000 rows × 2 columns</p>\n",
       "</div>"
      ],
      "text/plain": [
       "      TEST DATASET                                       Introduction\n",
       "1              NaN  Acnesol Gel is an antibiotic that fights bacte...\n",
       "2              NaN  Ambrodil Syrup is used for treating various re...\n",
       "3              NaN  Augmentin 625 Duo Tablet is a penicillin-type ...\n",
       "4              NaN  Azithral 500 Tablet is an antibiotic used to t...\n",
       "5              NaN  Alkasol Oral Solution is a medicine used in th...\n",
       "...            ...                                                ...\n",
       "996            NaN  Azapure Tablet belongs to a group of medicines...\n",
       "997            NaN  Arimidex 1mg Tablet  is used alone or with oth...\n",
       "998            NaN  Arpimune ME 100mg Capsule is used to prevent y...\n",
       "999            NaN  Amlodac CH Tablet is a combination medicine us...\n",
       "1000           NaN  Angizem CD 120 Capsule ER is used to treat ang...\n",
       "\n",
       "[1000 rows x 2 columns]"
      ]
     },
     "execution_count": 6,
     "metadata": {},
     "output_type": "execute_result"
    }
   ],
   "source": [
    "df.rename(columns = {'Unnamed: 1' : 'Introduction' }, inplace=True)\n",
    "# Deleting the first row \n",
    "df.drop(0)"
   ]
  },
  {
   "cell_type": "markdown",
   "id": "7a0eb796-e374-4ab7-8716-74c9694ad8f2",
   "metadata": {},
   "source": [
    "# Étape 3:Word Embeddings #"
   ]
  },
  {
   "cell_type": "code",
   "execution_count": 7,
   "id": "58b4ab88-4c26-4bd3-b79d-8984b6dce34c",
   "metadata": {
    "tags": []
   },
   "outputs": [
    {
     "data": {
      "text/plain": [
       "400000"
      ]
     },
     "execution_count": 7,
     "metadata": {},
     "output_type": "execute_result"
    }
   ],
   "source": [
    "# Extract word vectors\n",
    "word_embeddings = {}\n",
    "file = open('glove.6B.100d.txt', encoding='utf-8')\n",
    "for line in file:\n",
    "    values = line.split()\n",
    "    word = values[0]\n",
    "    coefs = np.asarray(values[1:], dtype='float32')\n",
    "    word_embeddings[word] = coefs\n",
    "file.close()\n",
    "len(word_embeddings)"
   ]
  },
  {
   "cell_type": "markdown",
   "id": "545050d1-9128-47b0-bb02-85353f1d0f86",
   "metadata": {},
   "source": [
    "# Étape 3: Entraînement du modèle #"
   ]
  },
  {
   "cell_type": "code",
   "execution_count": 8,
   "id": "426f06f2-c26d-4324-9431-2aa0f5db9516",
   "metadata": {},
   "outputs": [
    {
     "name": "stdout",
     "output_type": "stream",
     "text": [
      "Acnesol Gel is an antibiotic that fights bacteria. It is used to treat acne, which appears as spots or pimples on your face, chest or back. This medicine works by attacking the bacteria that cause these pimples.Acnesol Gel is only meant for external use and should be used as advised by your doctor. You should normally wash and dry the affected area before applying a thin layer of the medicine. It should not be applied to broken or damaged skin. Avoid any contact with your eyes, nose, or mouth. Rinse it off with water if you accidentally get it in these areas. It may take several weeks for your symptoms to improve, but you should keep using this medicine regularly. Do not stop using it as soon as your acne starts to get better. Ask your doctor when you should stop treatment.Common side effects like minor itching, burning, or redness of the skin and oily skin may be seen in some people. These are usually temporary and resolve on their own. Consult your doctor if they bother you or do not go away.It is a safe medicine, but you should inform your doctor if you have any problems with your bowels (intestines). Also, inform the doctor if you have ever had bloody diarrhea caused by taking antibiotics or if you are using any other medicines to treat skin conditions. Consult your doctor about using this medicine if you are pregnant or breastfeeding.\n"
     ]
    }
   ],
   "source": [
    "# Converting the DataFrame into a dictionary\n",
    "text_dictionary = {}\n",
    "for i in range(1,len(df['TEST DATASET'])):\n",
    "    text_dictionary[i] = df['Introduction'][i]\n",
    "    \n",
    "print(text_dictionary[1])"
   ]
  },
  {
   "cell_type": "code",
   "execution_count": 9,
   "id": "3633fb12-9465-4698-83e4-aa61132ec61d",
   "metadata": {
    "tags": []
   },
   "outputs": [],
   "source": [
    "# function to remove stopwords\n",
    "def remove_stopwords(sen):\n",
    "    stop_words = stopwords.words('english')\n",
    "    \n",
    "    sen_new = \" \".join([i for i in sen if i not in stop_words])\n",
    "    return sen_new"
   ]
  },
  {
   "cell_type": "code",
   "execution_count": 10,
   "id": "c71b854f-b0bc-4117-bf1c-f9537cb37b82",
   "metadata": {
    "tags": []
   },
   "outputs": [],
   "source": [
    "# function to make vectors out of the sentences\n",
    "def sentence_vector_func (sentences_cleaned) : \n",
    "    sentence_vector = []\n",
    "    for i in sentences_cleaned:\n",
    "        if len(i) != 0:\n",
    "            v = sum([word_embeddings.get(w, np.zeros((100,))) for w in i.split()])/(len(i.split())+0.001)\n",
    "        else:\n",
    "            v = np.zeros((100,))\n",
    "        sentence_vector.append(v)\n",
    "    \n",
    "    return (sentence_vector)"
   ]
  },
  {
   "cell_type": "markdown",
   "id": "7b867b7f-e2b5-41d4-8ac2-4e17c08ae883",
   "metadata": {},
   "source": [
    "# Étape 4:Text Summarization Algorithm #"
   ]
  },
  {
   "cell_type": "code",
   "execution_count": 11,
   "id": "22bdf4b7-a24b-4143-9232-b7202c538e60",
   "metadata": {
    "tags": []
   },
   "outputs": [],
   "source": [
    "# function to get the summary of the articles\n",
    "\n",
    "def summary_text (test_text, n = 5):\n",
    "    sentences = []\n",
    "    \n",
    "    # tokenising the text \n",
    "    sentences.append(sent_tokenize(test_text))\n",
    "    \n",
    "    sentences = [y for x in sentences for y in x] # flatten list\n",
    "    \n",
    "    \n",
    "    # remove punctuations, numbers and special characters\n",
    "    clean_sentences = pd.Series(sentences).str.replace(\"[^a-z A-Z 0-9]\", \" \")\n",
    "\n",
    "    # make alphabets lowercase\n",
    "    clean_sentences = [s.lower() for s in clean_sentences]\n",
    "   \n",
    "\n",
    "    \n",
    "    # remove stopwords from the sentences\n",
    "    clean_sentences = [remove_stopwords(r.split()) for r in clean_sentences]\n",
    "    \n",
    "    \n",
    "    sentence_vectors = sentence_vector_func(clean_sentences)\n",
    "    \n",
    "    # similarity matrix\n",
    "    sim_mat = np.zeros([len(sentences), len(sentences)])\n",
    "   \n",
    "    # Finding the similarities between the sentences \n",
    "    for i in range(len(sentences)):\n",
    "        for j in range(len(sentences)):\n",
    "            if i != j:\n",
    "                sim_mat[i][j] = cosine_similarity(sentence_vectors[i].reshape(1,100), sentence_vectors[j].reshape(1,100))[0,0]\n",
    "    \n",
    "    \n",
    "    nx_graph = nx.from_numpy_array(sim_mat)\n",
    "    scores = nx.pagerank(nx_graph)\n",
    "    \n",
    "    ranked_sentences = sorted(((scores[i],s) for i,s in enumerate(sentences)))\n",
    "    # Extract sentences as the summary\n",
    "    summarised_string = ''\n",
    "    for i in range(n):\n",
    "        \n",
    "        try:\n",
    "            summarised_string = summarised_string + str(ranked_sentences[i][1])            \n",
    "        except IndexError:\n",
    "            print (\"Summary Not Available\")\n",
    "    \n",
    "    return (summarised_string)"
   ]
  },
  {
   "cell_type": "code",
   "execution_count": 12,
   "id": "c6ea8330-64b8-4c8d-a65f-1e09be0ac536",
   "metadata": {
    "tags": []
   },
   "outputs": [
    {
     "name": "stdout",
     "output_type": "stream",
     "text": [
      "Kindly let me know in how many sentences you want the summary - \n"
     ]
    },
    {
     "name": "stdin",
     "output_type": "stream",
     "text": [
      " 3\n"
     ]
    },
    {
     "name": "stdout",
     "output_type": "stream",
     "text": [
      "Summary of the article -  1\n",
      "Acnesol Gel is an antibiotic that fights bacteria.These are usually temporary and resolve on their own.Consult your doctor about using this medicine if you are pregnant or breastfeeding.\n",
      "========================================================================================================================\n",
      "Summary of the article -  2\n",
      "Ambrodil Syrup is used for treating various respiratory tract disorders associated with excessive mucus.It works by thinning and loosens mucus in the nose, windpipe and lungs and make it easier to cough out.Ambrodil Syrup should be taken with food.For better results, it is suggested to take it at the same time every day.\n",
      "========================================================================================================================\n",
      "Summary of the article -  3\n",
      "It is used to treat infections of the lungs (e.g., pneumonia), ear, nasal sinus, urinary tract, skin and soft tissue.You should take it regularly at evenly spaced intervals as per the schedule prescribed by your doctor.Augmentin 625 Duo Tablet is a penicillin-type of antibiotic that helps your body fight infections caused by bacteria.\n",
      "========================================================================================================================\n",
      "Summary of the article -  4\n"
     ]
    },
    {
     "name": "stderr",
     "output_type": "stream",
     "text": [
      "C:\\Users\\megdiche leila\\AppData\\Local\\Temp\\ipykernel_2564\\3308548730.py:13: FutureWarning: The default value of regex will change from True to False in a future version.\n",
      "  clean_sentences = pd.Series(sentences).str.replace(\"[^a-z A-Z 0-9]\", \" \")\n",
      "C:\\Users\\megdiche leila\\AppData\\Local\\Temp\\ipykernel_2564\\3308548730.py:13: FutureWarning: The default value of regex will change from True to False in a future version.\n",
      "  clean_sentences = pd.Series(sentences).str.replace(\"[^a-z A-Z 0-9]\", \" \")\n",
      "C:\\Users\\megdiche leila\\AppData\\Local\\Temp\\ipykernel_2564\\3308548730.py:13: FutureWarning: The default value of regex will change from True to False in a future version.\n",
      "  clean_sentences = pd.Series(sentences).str.replace(\"[^a-z A-Z 0-9]\", \" \")\n",
      "C:\\Users\\megdiche leila\\AppData\\Local\\Temp\\ipykernel_2564\\3308548730.py:13: FutureWarning: The default value of regex will change from True to False in a future version.\n",
      "  clean_sentences = pd.Series(sentences).str.replace(\"[^a-z A-Z 0-9]\", \" \")\n"
     ]
    },
    {
     "name": "stdout",
     "output_type": "stream",
     "text": [
      "These are usually temporary and subside with the completion of treatment.It should be used regularly at evenly spaced time intervals as prescribed by your doctor.Pregnant or breastfeeding women should consult their doctor before using this medicine.\n",
      "========================================================================================================================\n",
      "**************************************** The process has been completed successfully ****************************************\n"
     ]
    }
   ],
   "source": [
    "print(\"Kindly let me know in how many sentences you want the summary - \")\n",
    "x = int(input())\n",
    "\n",
    "summary_dictionary = {}\n",
    "\n",
    "for key in text_dictionary:\n",
    "    \n",
    "    para = text_dictionary[key]\n",
    "    print(\"Summary of the article - \",key)\n",
    "    summary = summary_text(para,x)\n",
    "    summary_dictionary[key] = summary\n",
    "    \n",
    "    print(summary)\n",
    "    print('='*120) \n",
    "    \n",
    "    if key >= 4:  # Stop after the first 5 key-value pairs\n",
    "        break\n",
    "    \n",
    "print (\"*\"*40,\"The process has been completed successfully\",\"*\"*40)"
   ]
  },
  {
   "cell_type": "code",
   "execution_count": 13,
   "id": "ddd01e1c-13e3-46bd-a420-f3704cbc5f12",
   "metadata": {
    "tags": []
   },
   "outputs": [],
   "source": [
    "summary_table = pd.DataFrame(list(summary_dictionary.items()),columns = ['TEST DATASET','Summary'])"
   ]
  },
  {
   "cell_type": "code",
   "execution_count": 14,
   "id": "344e6f3f-d2a6-4a17-bb13-63cec209d906",
   "metadata": {
    "tags": []
   },
   "outputs": [],
   "source": [
    "data_table = pd.DataFrame(list(text_dictionary.items()),columns = ['TEST DATASET','Introduction'])"
   ]
  },
  {
   "cell_type": "code",
   "execution_count": 15,
   "id": "111bb929-f9ce-41a8-8f73-af4f132af914",
   "metadata": {
    "tags": []
   },
   "outputs": [
    {
     "data": {
      "text/html": [
       "<div>\n",
       "<style scoped>\n",
       "    .dataframe tbody tr th:only-of-type {\n",
       "        vertical-align: middle;\n",
       "    }\n",
       "\n",
       "    .dataframe tbody tr th {\n",
       "        vertical-align: top;\n",
       "    }\n",
       "\n",
       "    .dataframe thead th {\n",
       "        text-align: right;\n",
       "    }\n",
       "</style>\n",
       "<table border=\"1\" class=\"dataframe\">\n",
       "  <thead>\n",
       "    <tr style=\"text-align: right;\">\n",
       "      <th></th>\n",
       "      <th>TEST DATASET</th>\n",
       "      <th>Introduction</th>\n",
       "      <th>Summary</th>\n",
       "    </tr>\n",
       "  </thead>\n",
       "  <tbody>\n",
       "    <tr>\n",
       "      <th>0</th>\n",
       "      <td>1</td>\n",
       "      <td>Acnesol Gel is an antibiotic that fights bacte...</td>\n",
       "      <td>Acnesol Gel is an antibiotic that fights bacte...</td>\n",
       "    </tr>\n",
       "    <tr>\n",
       "      <th>1</th>\n",
       "      <td>2</td>\n",
       "      <td>Ambrodil Syrup is used for treating various re...</td>\n",
       "      <td>Ambrodil Syrup is used for treating various re...</td>\n",
       "    </tr>\n",
       "    <tr>\n",
       "      <th>2</th>\n",
       "      <td>3</td>\n",
       "      <td>Augmentin 625 Duo Tablet is a penicillin-type ...</td>\n",
       "      <td>It is used to treat infections of the lungs (e...</td>\n",
       "    </tr>\n",
       "    <tr>\n",
       "      <th>3</th>\n",
       "      <td>4</td>\n",
       "      <td>Azithral 500 Tablet is an antibiotic used to t...</td>\n",
       "      <td>These are usually temporary and subside with t...</td>\n",
       "    </tr>\n",
       "    <tr>\n",
       "      <th>4</th>\n",
       "      <td>5</td>\n",
       "      <td>Alkasol Oral Solution is a medicine used in th...</td>\n",
       "      <td>NaN</td>\n",
       "    </tr>\n",
       "    <tr>\n",
       "      <th>...</th>\n",
       "      <td>...</td>\n",
       "      <td>...</td>\n",
       "      <td>...</td>\n",
       "    </tr>\n",
       "    <tr>\n",
       "      <th>995</th>\n",
       "      <td>996</td>\n",
       "      <td>Azapure Tablet belongs to a group of medicines...</td>\n",
       "      <td>NaN</td>\n",
       "    </tr>\n",
       "    <tr>\n",
       "      <th>996</th>\n",
       "      <td>997</td>\n",
       "      <td>Arimidex 1mg Tablet  is used alone or with oth...</td>\n",
       "      <td>NaN</td>\n",
       "    </tr>\n",
       "    <tr>\n",
       "      <th>997</th>\n",
       "      <td>998</td>\n",
       "      <td>Arpimune ME 100mg Capsule is used to prevent y...</td>\n",
       "      <td>NaN</td>\n",
       "    </tr>\n",
       "    <tr>\n",
       "      <th>998</th>\n",
       "      <td>999</td>\n",
       "      <td>Amlodac CH Tablet is a combination medicine us...</td>\n",
       "      <td>NaN</td>\n",
       "    </tr>\n",
       "    <tr>\n",
       "      <th>999</th>\n",
       "      <td>1000</td>\n",
       "      <td>Angizem CD 120 Capsule ER is used to treat ang...</td>\n",
       "      <td>NaN</td>\n",
       "    </tr>\n",
       "  </tbody>\n",
       "</table>\n",
       "<p>1000 rows × 3 columns</p>\n",
       "</div>"
      ],
      "text/plain": [
       "     TEST DATASET                                       Introduction  \\\n",
       "0               1  Acnesol Gel is an antibiotic that fights bacte...   \n",
       "1               2  Ambrodil Syrup is used for treating various re...   \n",
       "2               3  Augmentin 625 Duo Tablet is a penicillin-type ...   \n",
       "3               4  Azithral 500 Tablet is an antibiotic used to t...   \n",
       "4               5  Alkasol Oral Solution is a medicine used in th...   \n",
       "..            ...                                                ...   \n",
       "995           996  Azapure Tablet belongs to a group of medicines...   \n",
       "996           997  Arimidex 1mg Tablet  is used alone or with oth...   \n",
       "997           998  Arpimune ME 100mg Capsule is used to prevent y...   \n",
       "998           999  Amlodac CH Tablet is a combination medicine us...   \n",
       "999          1000  Angizem CD 120 Capsule ER is used to treat ang...   \n",
       "\n",
       "                                               Summary  \n",
       "0    Acnesol Gel is an antibiotic that fights bacte...  \n",
       "1    Ambrodil Syrup is used for treating various re...  \n",
       "2    It is used to treat infections of the lungs (e...  \n",
       "3    These are usually temporary and subside with t...  \n",
       "4                                                  NaN  \n",
       "..                                                 ...  \n",
       "995                                                NaN  \n",
       "996                                                NaN  \n",
       "997                                                NaN  \n",
       "998                                                NaN  \n",
       "999                                                NaN  \n",
       "\n",
       "[1000 rows x 3 columns]"
      ]
     },
     "execution_count": 15,
     "metadata": {},
     "output_type": "execute_result"
    }
   ],
   "source": [
    "# Combining the findings into the table\n",
    "result  = pd.concat([data_table , summary_table['Summary']], axis = 1 , sort = False)\n",
    "result"
   ]
  },
  {
   "cell_type": "code",
   "execution_count": 16,
   "id": "76887f53-2bf8-472c-8141-2f1124ef5540",
   "metadata": {
    "tags": []
   },
   "outputs": [
    {
     "data": {
      "image/png": "[encoded data removed]",
      "text/plain": [
       "<Figure size 1600x400 with 2 Axes>"
      ]
     },
     "metadata": {},
     "output_type": "display_data"
    }
   ],
   "source": [
    "text_count = [len(str(sentence).split()) for sentence in result.Introduction]\n",
    "summary_count = [len(str(sentence).split()) for sentence in result.Summary]\n",
    "\n",
    "result_df = pd.DataFrame({'Introduction': text_count, 'Summary': summary_count})\n",
    "result_df.hist(bins=100, figsize=(16, 4), range=[0, 50])\n",
    "plt.show()"
   ]
  },
  {
   "cell_type": "code",
   "execution_count": 17,
   "id": "b2798ac4-2e58-4173-812b-be260e9fb37b",
   "metadata": {
    "tags": []
   },
   "outputs": [],
   "source": [
    "# Saving it to a file\n",
    "result.to_csv(\"Summary_File.csv\")"
   ]
  },
  {
   "cell_type": "markdown",
   "id": "68d84da4-e212-48c8-93f0-d9217dfeeb1a",
   "metadata": {},
   "source": [
    "# Étape 5: User interface #"
   ]
  },
  {
   "cell_type": "code",
   "execution_count": 18,
   "id": "cf8c9bad-9759-4eb4-885b-386b8bae5b52",
   "metadata": {
    "tags": []
   },
   "outputs": [],
   "source": [
    "import tkinter as tk\n",
    "from tkinter import scrolledtext\n",
    "from tkinter import messagebox"
   ]
  },
  {
   "cell_type": "code",
   "execution_count": 19,
   "id": "8ca946f2-c54d-4e81-b91d-ed30c67ea5da",
   "metadata": {
    "tags": []
   },
   "outputs": [],
   "source": [
    "\n",
    "def summarize_text():\n",
    "    input_text = input_text_area.get(\"2.0\", tk.END).strip()\n",
    "    \n",
    "    if input_text:\n",
    "        summary = summary_text(input_text)\n",
    "        summary_output_area.configure(state=\"normal\")\n",
    "        summary_output_area.delete(\"2.0\", tk.END)\n",
    "        summary_output_area.insert(tk.END, summary)\n",
    "        summary_output_area.configure(state=\"disabled\")\n",
    "    else:\n",
    "        messagebox.showwarning(\"Warning\", \"Please enter some text.\")"
   ]
  },
  {
   "cell_type": "code",
   "execution_count": null,
   "id": "25ffb082-3170-4f69-8417-8e8ba67e62bb",
   "metadata": {
    "tags": []
   },
   "outputs": [],
   "source": [
    "root = tk.Tk()\n",
    "root.title(\"Text Summarization\")\n",
    "root.geometry(\"1000x600\")\n",
    "\n",
    "input_label = tk.Label(root, text=\"Input Text:\")\n",
    "input_label.pack()\n",
    "\n",
    "input_text_area = scrolledtext.ScrolledText(root, height=8)\n",
    "input_text_area.pack()\n",
    "\n",
    "summary_label = tk.Label(root, text=\"Summary:\")\n",
    "summary_label.pack()\n",
    "\n",
    "summary_output_area = scrolledtext.ScrolledText(root, height=8, state=\"disabled\")\n",
    "summary_output_area.pack()\n",
    "\n",
    "summarize_button = tk.Button(root, text=\"Summarize\", command=summarize_text)\n",
    "summarize_button.pack()\n",
    "\n",
    "root.mainloop()"
   ]
  },
  {
   "cell_type": "code",
   "execution_count": null,
   "id": "810aa688-1eba-484f-bbaf-8a7b76028007",
   "metadata": {},
   "outputs": [],
   "source": []
  }
 ],
 "metadata": {
  "kernelspec": {
   "display_name": "Python 3 (ipykernel)",
   "language": "python",
   "name": "python3"
  },
  "language_info": {
   "codemirror_mode": {
    "name": "ipython",
    "version": 3
   },
   "file_extension": ".py",
   "mimetype": "text/x-python",
   "name": "python",
   "nbconvert_exporter": "python",
   "pygments_lexer": "ipython3",
   "version": "3.9.7"
  }
 },
 "nbformat": 4,
 "nbformat_minor": 5
}
